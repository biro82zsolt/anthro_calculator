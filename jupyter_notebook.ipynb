{
 "cells": [
  {
   "cell_type": "code",
   "execution_count": null,
   "id": "8a790574",
   "metadata": {},
   "outputs": [],
   "source": [
    "import pandas as pd\n",
    "import matplotlib.pyplot as plt\n",
    "import seaborn as sns\n",
    "\n",
    "# Grafikai beállítás\n",
    "%matplotlib inline\n",
    "sns.set(style=\"whitegrid\")\n"
   ]
  },
  {
   "cell_type": "code",
   "execution_count": null,
   "id": "a27d8776",
   "metadata": {},
   "outputs": [],
   "source": [
    "# Adatok beolvasása az exported könyvtárból\n",
    "df = pd.read_excel(\"exported/processed_data.xlsx\")\n",
    "df.head()\n"
   ]
  },
  {
   "cell_type": "code",
   "execution_count": null,
   "id": "1d41a50d",
   "metadata": {},
   "outputs": [],
   "source": [
    "# Alap statisztikák a testmagasság és a vttm oszlopra\n",
    "df[[\"testmagasság\", \"vttm\"]].describe()\n"
   ]
  },
  {
   "cell_type": "code",
   "execution_count": null,
   "id": "5793cfe4",
   "metadata": {},
   "outputs": [],
   "source": [
    "df[\"különbség\"] = df[\"vttm\"] - df[\"testmagasság\"]\n",
    "df[[\"név\", \"testmagasság\", \"vttm\", \"különbség\"]].head()\n"
   ]
  },
  {
   "cell_type": "code",
   "execution_count": null,
   "id": "45e836d4",
   "metadata": {},
   "outputs": [],
   "source": [
    "plt.figure(figsize=(12, 6))\n",
    "x = range(len(df))\n",
    "plt.bar(x, df[\"testmagasság\"], label=\"Jelenlegi\", width=0.4)\n",
    "plt.bar([i + 0.4 for i in x], df[\"vttm\"], label=\"Várható\", width=0.4)\n",
    "plt.xticks([i + 0.2 for i in x], df[\"név\"], rotation=45, ha=\"right\")\n",
    "plt.ylabel(\"Magasság (cm)\")\n",
    "plt.title(\"Jelenlegi és várható testmagasságok\")\n",
    "plt.legend()\n",
    "plt.tight_layout()\n",
    "plt.show()\n"
   ]
  },
  {
   "cell_type": "code",
   "execution_count": null,
   "id": "0d4ec5d0",
   "metadata": {},
   "outputs": [],
   "source": [
    "plt.figure(figsize=(6, 4))\n",
    "sns.boxplot(data=df[[\"testmagasság\", \"vttm\"]])\n",
    "plt.title(\"Boxplot - Testmagasságok összehasonlítása\")\n",
    "plt.ylabel(\"Magasság (cm)\")\n",
    "plt.show()\n"
   ]
  },
  {
   "cell_type": "code",
   "execution_count": null,
   "id": "6f53d745",
   "metadata": {},
   "outputs": [],
   "source": [
    "plt.figure(figsize=(6, 6))\n",
    "sns.scatterplot(x=\"testmagasság\", y=\"vttm\", data=df)\n",
    "plt.plot([df[\"testmagasság\"].min(), df[\"testmagasság\"].max()],\n",
    "         [df[\"testmagasság\"].min(), df[\"testmagasság\"].max()], 'r--')\n",
    "plt.xlabel(\"Jelenlegi\")\n",
    "plt.ylabel(\"Várható\")\n",
    "plt.title(\"Szórásdiagram: Jelenlegi vs. Várható magasság\")\n",
    "plt.grid(True)\n",
    "plt.tight_layout()\n",
    "plt.show()\n"
   ]
  },
  {
   "cell_type": "code",
   "execution_count": null,
   "id": "1b83cdc8",
   "metadata": {},
   "outputs": [],
   "source": [
    "df.head(10)\n"
   ]
  }
 ],
 "metadata": {},
 "nbformat": 4,
 "nbformat_minor": 5
}
